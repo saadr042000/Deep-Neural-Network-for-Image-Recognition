{
  "nbformat": 4,
  "nbformat_minor": 0,
  "metadata": {
    "colab": {
      "provenance": [],
      "gpuType": "T4"
    },
    "kernelspec": {
      "name": "python3",
      "display_name": "Python 3"
    },
    "language_info": {
      "name": "python"
    },
    "accelerator": "GPU"
  },
  "cells": [
    {
      "cell_type": "code",
      "execution_count": null,
      "metadata": {
        "id": "55K0zgsFVM6D"
      },
      "outputs": [],
      "source": [
        "import numpy as np\n",
        "import pandas as pd\n",
        "import matplotlib.pyplot as plt\n",
        "import torch\n",
        "from torch import nn\n",
        "from torchvision.transforms import ToTensor\n",
        "from torchvision.datasets import FashionMNIST, CIFAR10\n",
        "import tensorflow as tf\n",
        "from scipy.special import logsumexp\n",
        "from torch.utils.data import DataLoader"
      ]
    },
    {
      "cell_type": "code",
      "source": [
        "from google.colab import drive\n",
        "drive.mount('/content/drive')"
      ],
      "metadata": {
        "colab": {
          "base_uri": "https://localhost:8080/"
        },
        "id": "UfgnPmH-JVaA",
        "outputId": "d3527d64-80cb-4304-a54f-6a1a952e3e50"
      },
      "execution_count": null,
      "outputs": [
        {
          "output_type": "stream",
          "name": "stdout",
          "text": [
            "Mounted at /content/drive\n"
          ]
        }
      ]
    },
    {
      "cell_type": "markdown",
      "source": [
        "# Task 1"
      ],
      "metadata": {
        "id": "4C2fInxJ2uc-"
      }
    },
    {
      "cell_type": "code",
      "source": [
        "def Merge(dict1, dict2):\n",
        "    return(dict2.update(dict1))\n",
        "\n",
        "def count_keys(dict):\n",
        "    # Initialize a variable 'count' to keep track of the number of keys\n",
        "    count = 0\n",
        "\n",
        "    # Iterate through each key-value pair in the dictionary using the .items() method\n",
        "    for key in dict.keys():\n",
        "        # For each key-value pair, increment the count by 1\n",
        "        count += 1"
      ],
      "metadata": {
        "id": "5cOfy_4O5lBQ"
      },
      "execution_count": null,
      "outputs": []
    },
    {
      "cell_type": "code",
      "source": [
        "def unpickle(file): # code copied from https://www.cs.toronto.edu/~kriz/cifar.html\n",
        "    import pickle\n",
        "    with open(file, 'rb') as fo:\n",
        "        dict = pickle.load(fo, encoding='bytes')\n",
        "    return dict\n",
        "\n",
        "cifar_data1 = \"/content/drive/MyDrive/McGill/551MiniProjects/HW2/cifar-10-batches-py/data_batch_1\"\n",
        "cifar_data2 = \"/content/drive/MyDrive/McGill/551MiniProjects/HW2/cifar-10-batches-py/data_batch_2\"\n",
        "cifar_data3 = \"/content/drive/MyDrive/McGill/551MiniProjects/HW2/cifar-10-batches-py/data_batch_3\"\n",
        "cifar_data4 = \"/content/drive/MyDrive/McGill/551MiniProjects/HW2/cifar-10-batches-py/data_batch_4\"\n",
        "cifar_data5 = \"/content/drive/MyDrive/McGill/551MiniProjects/HW2/cifar-10-batches-py/data_batch_5\"\n",
        "\n",
        "cifar_dict = {}\n",
        "cifar_array = []\n",
        "# cifat_dict1 = {}\n",
        "# cifat_dict2 = {}\n",
        "# cifat_dict3 = {}\n",
        "# cifat_dict4 = {}\n",
        "# cifat_dict5 = {}\n",
        "for i in range(1,6):\n",
        "  print(\"/content/drive/MyDrive/McGill/551MiniProjects/HW2/cifar-10-batches-py/data_batch_\"+str(i))\n",
        "  merge_dict = unpickle(\"/content/drive/MyDrive/McGill/551MiniProjects/HW2/cifar-10-batches-py/data_batch_\"+str(i))\n",
        "  cifar_array.append(merge_dict)\n",
        "  # print(cifat_dict.update(merge_dict))\n",
        "  Merge(merge_dict, cifar_dict)\n",
        "\n",
        "print(\"cifar_dict:\")\n",
        "print(cifar_dict)\n",
        "\n"
      ],
      "metadata": {
        "id": "rge8sZ-PJWeV"
      },
      "execution_count": null,
      "outputs": []
    },
    {
      "cell_type": "code",
      "source": [
        "fashion_trainset  = FashionMNIST('/content/drive/MyDrive/McGill/551MiniProjects/HW2/fashion', download=True, train=True, transform=ToTensor())\n",
        "fashion_testset   = FashionMNIST('/content/drive/MyDrive/McGill/551MiniProjects/HW2/fashion', download=True, train=False, transform=ToTensor())"
      ],
      "metadata": {
        "id": "wt5ZsJ7FLStQ"
      },
      "execution_count": null,
      "outputs": []
    },
    {
      "cell_type": "code",
      "source": [
        "# Get the data and labels\n",
        "X_train = fashion_trainset.data.numpy()  # Get the training images as NumPy arrays\n",
        "y_train = fashion_trainset.targets.numpy()  # Get the training labels as NumPy arrays\n",
        "\n",
        "X_test = fashion_testset.data.numpy()  # Get the test images as NumPy arrays\n",
        "y_test = fashion_testset.targets.numpy()  # Get the test labels as NumPy arrays\n",
        "# Flatten the images\n",
        "X_train = X_train.reshape(X_train.shape[0], -1)  # Reshape to (num_samples, 784)\n",
        "X_test = X_test.reshape(X_test.shape[0], -1)\n",
        "X_train_unnorm = X_train\n",
        "X_test_unnorm = X_test\n",
        "\n",
        "\n",
        "# pre-processing\n",
        "X_train = X_train - np.mean(X_train, axis = 0)\n",
        "X_test = X_test - np.mean(X_test, axis = 0)\n",
        "\n",
        "# normalization\n",
        "X_train = X_train / np.std(X_train, axis=0)\n",
        "X_test = X_test / np.std(X_test, axis=0)\n",
        "\n",
        "\n",
        "print(X_train[1,300])\n",
        "print(y_train)"
      ],
      "metadata": {
        "id": "v3x3ms_O5o-i",
        "colab": {
          "base_uri": "https://localhost:8080/"
        },
        "outputId": "927ed721-b64f-4d14-a6eb-90b44c0c5988"
      },
      "execution_count": null,
      "outputs": [
        {
          "output_type": "stream",
          "name": "stdout",
          "text": [
            "0.8736224133894537\n",
            "[9 0 0 ... 3 0 5]\n"
          ]
        }
      ]
    },
    {
      "cell_type": "code",
      "source": [
        "cifar_trainset  = CIFAR10('/content/drive/MyDrive/McGill/551MiniProjects/HW2/cifar', download=True, train=True, transform=ToTensor())\n",
        "cifar_testset   = CIFAR10('/content/drive/MyDrive/McGill/551MiniProjects/HW2/cifar', download=True, train=False, transform=ToTensor())"
      ],
      "metadata": {
        "id": "iB0syUShORd9",
        "colab": {
          "base_uri": "https://localhost:8080/"
        },
        "outputId": "e75270c1-5937-4c9a-e82b-493ab6292ea6"
      },
      "execution_count": null,
      "outputs": [
        {
          "output_type": "stream",
          "name": "stdout",
          "text": [
            "Files already downloaded and verified\n",
            "Files already downloaded and verified\n"
          ]
        }
      ]
    },
    {
      "cell_type": "code",
      "source": [
        "# Visualize the Fashion Data, copied from https://pytorch.org/tutorials/beginner/basics/data_tutorial.html\n",
        "\n",
        "labels_map = {\n",
        "    0: \"T-Shirt\",\n",
        "    1: \"Trouser\",\n",
        "    2: \"Pullover\",\n",
        "    3: \"Dress\",\n",
        "    4: \"Coat\",\n",
        "    5: \"Sandal\",\n",
        "    6: \"Shirt\",\n",
        "    7: \"Sneaker\",\n",
        "    8: \"Bag\",\n",
        "    9: \"Ankle Boot\",\n",
        "}\n",
        "\n",
        "figure = plt.figure(figsize=(8, 8))\n",
        "cols, rows = 3, 3\n",
        "for i in range(1, cols * rows + 1):\n",
        "    sample_idx = torch.randint(len(fashion_trainset), size=(1,)).item()\n",
        "    img, label = fashion_trainset[sample_idx]\n",
        "    figure.add_subplot(rows, cols, i)\n",
        "    plt.title(labels_map[label])\n",
        "    plt.axis(\"off\")\n",
        "    plt.imshow(img.squeeze(), cmap=\"gray\")\n",
        "plt.show()"
      ],
      "metadata": {
        "colab": {
          "base_uri": "https://localhost:8080/",
          "height": 675
        },
        "id": "5CUHiNKxpr6P",
        "outputId": "9bfa2df6-c0af-4efd-fa0a-cab0ab70f8f9"
      },
      "execution_count": null,
      "outputs": [
        {
          "output_type": "display_data",
          "data": {
            "text/plain": [
              "<Figure size 800x800 with 9 Axes>"
            ],
            "image/png": "[encoded data removed]"
          },
          "metadata": {}
        }
      ]
    },
    {
      "cell_type": "code",
      "source": [
        "# fashion_trainset_np = np.array(fashion_trainset, dtype=object)\n",
        "# fashion_testset_np = np.array(fashion_testset, dtype=object)\n",
        "\n",
        "cifar_trainset_np = np.array(cifar_trainset, dtype=object)\n",
        "cifar_testset_np = np.array(cifar_testset, dtype=object)"
      ],
      "metadata": {
        "id": "Lfh5AmjPPh59"
      },
      "execution_count": null,
      "outputs": []
    },
    {
      "cell_type": "markdown",
      "source": [
        "# Task 2"
      ],
      "metadata": {
        "id": "9sB1ufKeDRV7"
      }
    },
    {
      "cell_type": "markdown",
      "source": [
        "• Implement the MLP as a python class. The constructor for the class should take as input the activation function (e.g., ReLU), the number of hidden layers (e.g., 2) and the number of units in the hidden layers (e.g., [64, 64]) and it should initialize the weights and biases (with an initializer of your choice, except where otherwise specified) as well as other important properties of the MLP.\n",
        "\n",
        "• The class should have (at least) two functions:\n",
        "2\n",
        "\n",
        "  – A fit function, which takes the training data (i.e., X and y)—as well as other hyperparameters (e.g., the learning rate and number of gradient descent iterations)—as input. This function should train your model by modifying the model parameters.\n",
        "\n",
        "  – A predict function, which takes a set of input points (i.e., X) as input and outputs predictions (i.e., yˆ) for these points."
      ],
      "metadata": {
        "id": "hGgzovCaDW7C"
      }
    },
    {
      "cell_type": "code",
      "source": [
        "def ReLU(x):\n",
        "  return np.maximum(0, x)\n",
        "\n",
        "def relu_back(x):\n",
        "  return (x>0).astype(float)\n",
        "\n",
        "def softmax(shifted_logits):\n",
        "    # Shift the input values to prevent overflow\n",
        "    # shifted_logits = X.dot(w)\n",
        "    max_logits = np.max(shifted_logits, axis=1, keepdims=True)  # Compute the maximum value for each data point\n",
        "    shifted_logits -= max_logits\n",
        "\n",
        "    # Compute softmax\n",
        "    exp_logits = np.exp(shifted_logits)\n",
        "    softmax_output = exp_logits / np.sum(exp_logits, axis=1, keepdims=True)\n",
        "\n",
        "    return softmax_output\n",
        "softmax_diff = lambda z: softmax(z)*(1-softmax(z))\n",
        "\n",
        "def leaky_relu(x, alpha=0.01):\n",
        "    return np.where(x > 0, x, 0.01 * x)\n",
        "def leaky_relu_back(x):\n",
        "    return np.where(x > 0, 1, 0.01)\n",
        "tanh = lambda z: np.tanh(z)\n",
        "def tanh_back(x):\n",
        "  return 1.0 - np.tanh(x) ** 2\n",
        "\n",
        "\n",
        "# logistic = lambda z: 1./ (1 + np.exp(-z))\n",
        "# softmax = lambda z: np.exp(z-z.max()) / np.sum(np.exp(z-z.max()), axis = -1)[:, None]"
      ],
      "metadata": {
        "id": "cJfFXeLsa4Tw"
      },
      "execution_count": null,
      "outputs": []
    },
    {
      "cell_type": "code",
      "source": [
        "class MLP:\n",
        "\n",
        "    #Implement the MLP as a python class. The constructor for the class should take as input the activation function (e.g., ReLU),\n",
        "    #the number of hidden layers (e.g., 2) and the number of units in the hidden layers (e.g., [64, 64]) and it should initialize\n",
        "    #the weights and biases (with an initializer of your choice, except where otherwise specified) as well as other important properties of the MLP.\n",
        "\n",
        "    # def __init__(self, input_features, output_features, activation_function, hidden_layers=2, units_hlayers = 64, M = 64, biases = 0):\n",
        "    def __init__(self, input_features, output_neurons, activation_function, activation_back, w_type, hidden_layers=2, units_hlayers = 64, M = 64, biases = 0, regularization=False, momentum=0.9):\n",
        "        self.activation_function = activation_function\n",
        "        self.activation_back = activation_back\n",
        "        self.hidden_layers = hidden_layers\n",
        "        self.units_hlayers = units_hlayers\n",
        "        self.M = M\n",
        "        self.input_features = input_features\n",
        "        self.output_neurons = output_neurons\n",
        "        self.w_type = w_type\n",
        "        self.regularization = regularization\n",
        "        # no. of weights dependent on hidden_layers\n",
        "        self.weights = self.init_weights(self.hidden_layers)\n",
        "        self.momentum =momentum\n",
        "\n",
        "\n",
        "    def init_weights(self, hidden_layer = 2):\n",
        "      if self.w_type == \"z\":\n",
        "        if hidden_layer == 0:\n",
        "          w = np.zeros((self.input_features, self.output_neurons))\n",
        "          return np.asarray([w])\n",
        "        if hidden_layer == 1:\n",
        "          v = np.zeros((self.input_features, self.units_hlayers))\n",
        "          f = np.zeros((self.units_hlayers, self.output_neurons))\n",
        "          print(\"v: \", v.shape)\n",
        "          print(\"f: \", f.shape)\n",
        "          return np.asarray([v, f])\n",
        "\n",
        "\n",
        "        if hidden_layer == 2:\n",
        "          w = np.zeros((self.input_features, self.units_hlayers))\n",
        "          v = np.zeros((self.units_hlayers, self.units_hlayers))\n",
        "          f = np.zeros((self.units_hlayers, self.output_neurons))\n",
        "          return np.asarray([w, v, f])\n",
        "\n",
        "      elif self.w_type == \"u\":\n",
        "        if hidden_layer == 0:\n",
        "          w = np.random.uniform(-1, 1, size=(self.input_features, self.output_neurons))\n",
        "          return np.asarray([w])\n",
        "        if hidden_layer == 1:\n",
        "          v = np.random.uniform(-1, 1, size=(self.input_features, self.units_hlayers))\n",
        "          f = np.random.uniform(-1, 1, size=(self.units_hlayers, self.output_neurons))\n",
        "          print(\"v: \", v.shape)\n",
        "          print(\"f: \", f.shape)\n",
        "          return np.asarray([v, f])\n",
        "\n",
        "        if hidden_layer == 2:\n",
        "          w = np.random.uniform(-1, 1, size=(self.input_features, self.units_hlayers))\n",
        "          v = np.random.uniform(-1, 1, size=(self.units_hlayers, self.units_hlayers))\n",
        "          f = np.random.uniform(-1, 1, size=(self.units_hlayers, self.output_neurons))\n",
        "          return np.asarray([w, v, f])\n",
        "\n",
        "      elif self.w_type == \"g\":\n",
        "        if hidden_layer == 0:\n",
        "          w = np.random.normal(0, 1, size=(self.input_features, self.output_neurons))\n",
        "          return np.asarray([w])\n",
        "        if hidden_layer == 1:\n",
        "          v = np.random.normal(0, 1, size=(self.input_features, self.units_hlayers))\n",
        "          f = np.random.normal(0, 1, size=(self.units_hlayers, self.output_neurons))\n",
        "          print(\"v: \", v.shape)\n",
        "          print(\"f: \", f.shape)\n",
        "          return np.asarray([v, f])\n",
        "\n",
        "        if hidden_layer == 2:\n",
        "          w = np.random.normal(0, 1, size=(self.input_features, self.units_hlayers))\n",
        "          v = np.random.normal(0, 1, size=(self.units_hlayers, self.units_hlayers))\n",
        "          f = np.random.normal(0, 1, size=(self.units_hlayers, self.output_neurons))\n",
        "          return np.asarray([w, v, f])\n",
        "\n",
        "      elif self.w_type == \"x\":\n",
        "        if hidden_layer == 0:\n",
        "          w = np.random.uniform(-1, 1, size=(self.input_features, self.output_neurons)) * np.sqrt(6.0 / (self.input_features + self.output_neurons))\n",
        "          return np.asarray([w])\n",
        "        if hidden_layer == 1:\n",
        "          v = np.random.uniform(-1, 1, size=(self.input_features, self.units_hlayers)) * np.sqrt(6.0 / (self.input_features + self.units_hlayers))\n",
        "          f = np.random.uniform(-1, 1, size=(self.units_hlayers, self.output_neurons)) * np.sqrt(6.0 / (self.units_hlayers + self.output_neurons))\n",
        "          print(\"v: \", v.shape)\n",
        "          print(\"f: \", f.shape)\n",
        "          return np.asarray([v, f])\n",
        "\n",
        "        if hidden_layer == 2:\n",
        "          w = np.random.uniform(-1, 1, size=(self.input_features, self.units_hlayers)) * np.sqrt(6.0 / (self.input_features + self.units_hlayers))\n",
        "          v = np.random.uniform(-1, 1, size=(self.units_hlayers, self.units_hlayers)) * np.sqrt(6.0 / (self.units_hlayers + self.units_hlayers))\n",
        "          f = np.random.uniform(-1, 1, size=(self.units_hlayers, self.output_neurons)) * np.sqrt(6.0 / (self.units_hlayers + self.output_neurons))\n",
        "          return np.asarray([w, v, f])\n",
        "\n",
        "      elif self.w_type == \"k\":\n",
        "        if hidden_layer == 0:\n",
        "          w = np.random.normal(0, np.sqrt(2.0 / self.input_features), size=(self.input_features, self.output_neurons))\n",
        "          return np.asarray([w])\n",
        "        if hidden_layer == 1:\n",
        "          v = np.random.normal(0, np.sqrt(2.0 / self.input_features), size=(self.input_features, self.units_hlayers))\n",
        "          f = np.random.normal(0, np.sqrt(2.0 / self.units_hlayers), size=(self.units_hlayers, self.output_neurons))\n",
        "          print(\"v: \", v.shape)\n",
        "          print(\"f: \", f.shape)\n",
        "          return np.asarray([v, f])\n",
        "\n",
        "        if hidden_layer == 2:\n",
        "          w = np.random.normal(0, np.sqrt(2.0 / self.input_features), size=(self.input_features, self.units_hlayers))\n",
        "          v = np.random.normal(0, np.sqrt(2.0 / self.units_hlayers), size=(self.units_hlayers, self.units_hlayers))\n",
        "          f = np.random.normal(0, np.sqrt(2.0 / self.units_hlayers), size=(self.units_hlayers, self.output_neurons))\n",
        "          return np.asarray([w, v, f])\n",
        "\n",
        "      # if hidden_layer == 1:\n",
        "      #   v = np.random.randn(self.input_features, self.units_hlayers)\n",
        "      #   f = np.random.randn(self.units_hlayers, self.output_neurons)\n",
        "      #   print(\"v: \", v.shape)\n",
        "      #   print(\"f: \", f.shape)\n",
        "      #   return np.asarray([v,f])\n",
        "\n",
        "      # if hidden_layer == 2:\n",
        "      #   w = np.random.randn(self.input_features, self.units_hlayers)\n",
        "      #   v = np.random.randn(self.units_hlayers, self.units_hlayers)\n",
        "      #   f = np.random.randn(self.units_hlayers, self.output_neurons)\n",
        "      #   return np.asarray([w,v,f])\n",
        "\n",
        "    def one_hot_encode(self, y):\n",
        "        \"\"\"\n",
        "        Function which convert labels to vector\n",
        "\n",
        "        :param labels: np.array of labels to convert\n",
        "        :type labels: np.array\n",
        "        :return: converted labels in one_hot_encode\n",
        "        :rtype: np.array\n",
        "        \"\"\"\n",
        "        num_classes = np.max(y)+1\n",
        "        Y_hot = np.eye(num_classes)[y].astype(int)    # one_hot encoding of y\n",
        "        # Y_hot = Y_hot[:, 1:]\n",
        "        return Y_hot\n",
        "\n",
        "    def one_hot_decode(self, labels) -> np.array:\n",
        "        \"\"\"\n",
        "        Function which convert vector to labels\n",
        "\n",
        "        :param labels: np.array of predicted labels to convert\n",
        "        :type labels: np.array\n",
        "        :return: converted labels from one_hot_encode\n",
        "        :rtype: np.array\n",
        "        \"\"\"\n",
        "        temp = np.transpose(labels)\n",
        "        decode = [np.argmax(x) for x in temp]\n",
        "        # if self.verbose:\n",
        "        #     print(len(decode))\n",
        "        return np.array(decode)\n",
        "\n",
        "    def forward_pass(self, x):\n",
        "      if self.hidden_layers == 0:\n",
        "        self.f_params=[]\n",
        "\n",
        "        f1 = np.dot(x, self.weights[0])\n",
        "        f2 = softmax(f1)\n",
        "        self.f_params = [x, f1]\n",
        "\n",
        "        return f2\n",
        "\n",
        "      if self.hidden_layers == 1:\n",
        "        self.f_params = []\n",
        "\n",
        "        f1 = np.dot(x, self.weights[0]) #60K X 64\n",
        "        # print(\"f1: \",f1.shape)\n",
        "\n",
        "        f2 = self.activation_function(f1) #60k x 64\n",
        "        # print(\"f2: \",f2.shape)\n",
        "\n",
        "        f3 = np.dot(f2, self.weights[1])\n",
        "        fl = softmax(f3) #60k x 64\n",
        "\n",
        "        # print(\"f1: \", f1.shape)\n",
        "        # print(\"f2: \", f2.shape)\n",
        "        # print(\"f3: \", f3.shape)\n",
        "        # print(\"fl: \", fl.shape)\n",
        "\n",
        "        self.f_params = [x,f1,f2,f3]\n",
        "\n",
        "        return fl\n",
        "\n",
        "      if self.hidden_layers == 2:\n",
        "        self.f_params = []\n",
        "\n",
        "        f1 = np.dot(x, self.weights[0]) #60K X 64\n",
        "        # print(\"f1: \",f1.shape)\n",
        "\n",
        "        f2 = self.activation_function(f1) #60k x 64\n",
        "        # print(\"f2: \",f2.shape)\n",
        "\n",
        "        f3 = np.dot(f2, self.weights[1])\n",
        "        f4 = self.activation_function(f3) #60k x 64\n",
        "        # print(\"f4: \",f4.shape)\n",
        "\n",
        "        f5 = np.dot(f4, self.weights[2])\n",
        "        fl = softmax(f5)\n",
        "\n",
        "        self.f_params = [x,f1,f2,f3,f4,f5]\n",
        "\n",
        "        return fl\n",
        "\n",
        "    def backprop(self, y_train, yh):\n",
        "\n",
        "      if self.hidden_layers == 0:\n",
        "        x,f1 = self.f_params\n",
        "        N = y_train.shape[0]\n",
        "        dy = yh - y_train     # 60k x 10\n",
        "        dw = np.dot(x.T, dy)/N\n",
        "        return [dw]\n",
        "\n",
        "\n",
        "\n",
        "      if self.hidden_layers == 1:\n",
        "        x,f1,f2,f3 = self.f_params\n",
        "        N = y_train.shape[0]\n",
        "        dy = yh - y_train   # 60k x 10\n",
        "        # dy = dy * softmax_diff(f3)\n",
        "        df = np.dot(f2.T, dy)/N # 64 x 10\n",
        "\n",
        "        # print(\"df: \", df.shape)\n",
        "\n",
        "        # print(df)\n",
        "\n",
        "        # d2 = relu_back(f1)  # 60K x 64\n",
        "        # dx = np.dot((dz*d1), self.weights[1].T) # 60k x 64\n",
        "        # dw = np.dot(x.T, (dx*d2)) #  784 x 60k\n",
        "\n",
        "        dz = np.dot(dy, self.weights[1].T) #60k x 64\n",
        "        d1 = self.activation_back(f1)    #60k x 64\n",
        "        dv = np.dot(x.T, (dz*d1))/N  # 64 x 64\n",
        "\n",
        "        # print(\"dv: \", dv.shape)\n",
        "        # print(dw)\n",
        "\n",
        "        return [dv, df]\n",
        "\n",
        "      if self.hidden_layers == 2:\n",
        "        x,f1,f2,f3,f4,f5 = self.f_params\n",
        "        N = y_train.shape[0]\n",
        "        dy = yh - y_train   # 60k x 10\n",
        "        # dy = dy * softmax_diff(f5)\n",
        "        df = np.dot(f4.T, dy)/N # 64 x 10\n",
        "\n",
        "        # print(df)\n",
        "\n",
        "        dz = np.dot(dy, self.weights[2].T) #60k x 64\n",
        "        d1 = self.activation_back(f3)    #60k x 64\n",
        "        dv = np.dot((dz*d1).T, f2)/N  # 64 x 64\n",
        "        # print(dv)\n",
        "\n",
        "        d2 = self.activation_back(f1)  # 60K x 64\n",
        "        dx = np.dot((dz*d1), self.weights[1].T) # 60k x 64\n",
        "        dw = np.dot(x.T, (dx*d2))/N #  784 x 60k\n",
        "        # print(dw)\n",
        "\n",
        "        return [dw, dv, df]\n",
        "\n",
        "    def cost(self, x, y, ux):\n",
        "      # nll = - np.mean(np.sum(ux*y, 1) - logsumexp(ux))\n",
        "      N = x.shape[0]\n",
        "      # priape)\n",
        "      # nll = -np.mean(np.sum(ux * y, axis=1) - logsumexp(ux, axis=1))\n",
        "      nll = - np.mean(np.sum(ux*y, 1) - logsumexp(ux))\n",
        "      return nll\n",
        "\n",
        "    def fit(self, x, y_tr, learning_rate=0.01, max_iters=100, epsilon=1e-8, lambda_l1=0.01, lambda_l2=0.01, batch_size=64, l1=False, l2=False):\n",
        "      y = self.one_hot_encode(y_tr)\n",
        "      costs = []  # List to store average costs for each epoch\n",
        "\n",
        "      norms = np.array([np.inf])\n",
        "      t = 1\n",
        "\n",
        "      # Initialize velocities for momentum\n",
        "      # velocities = [np.zeros_like(w) for w in self.weights]\n",
        "      while t < max_iters and np.any(norms > epsilon):\n",
        "        # Shuffle the data to create mini-batches\n",
        "        permutation = np.random.permutation(x.shape[0])\n",
        "        x_shuffled = x[permutation]\n",
        "        y_shuffled = y[permutation]\n",
        "        total_cost = 0  # Initialize the total cost for an epoch\n",
        "\n",
        "\n",
        "        for batch_start in range(0, x.shape[0], batch_size):\n",
        "            batch_end = min(batch_start + batch_size, x.shape[0])\n",
        "            x_batch = x_shuffled[batch_start:batch_end]\n",
        "            y_batch = y_shuffled[batch_start:batch_end]\n",
        "\n",
        "            yh = self.forward_pass(x_batch)\n",
        "            derivatives = self.backprop(y_batch, yh)\n",
        "\n",
        "            # Calculate the cost for the mini-batch\n",
        "            cost = self.cost(x_batch, y_batch, self.f_params[-1])\n",
        "\n",
        "            # Add the cost to the total cost\n",
        "            total_cost += cost\n",
        "            for p in range(len(self.weights)):\n",
        "\n",
        "              if self.regularization:\n",
        "                # Regularization term gradients\n",
        "                l1_grad = lambda_l1 * np.sign(self.weights[p])\n",
        "                l2_grad = lambda_l2 * self.weights[p]\n",
        "                if l1:\n",
        "                  self.weights[p] -= learning_rate * (derivatives[p] + l1_grad)\n",
        "                else:\n",
        "                  self.weights[p] -= learning_rate * (derivatives[p] + l2_grad)\n",
        "\n",
        "\n",
        "\n",
        "              else:\n",
        "                # # Update the velocity with momentum\n",
        "                # velocities[p] = self.momentum * velocities[p] - (learning_rate * derivatives[p])\n",
        "                # # Update the weights with velocity\n",
        "                # self.weights[p] -= velocities[p]\n",
        "                self.weights[p] -= learning_rate * derivatives[p]\n",
        "        average_cost = total_cost / (x.shape[0] // batch_size)\n",
        "        costs.append(average_cost)  # Store the average cost for this epoch\n",
        "        # print(f\"Epoch {t}: Average Cost = {average_cost}\")\n",
        "\n",
        "        norms = np.array([np.linalg.norm(g) for g in derivatives])\n",
        "\n",
        "        t += 1\n",
        "        # cost = self.cost(x, y, self.f_params[-1])\n",
        "        # print(cost)\n",
        "        # print(self.weights)\n",
        "\n",
        "      return costs\n",
        "\n",
        "    def predict(self, x):\n",
        "      # y = self.one_hot_decode()\n",
        "      yh = self.forward_pass(x)\n",
        "      return np.argmax(yh, axis=-1)\n",
        "\n",
        "    def accuracy(self, x, y):\n",
        "      y_pred=self.forward_pass(x)\n",
        "      # Calculate the predicted class (index with the highest probability) for each data point\n",
        "      predicted_class = np.argmax(y_pred, axis=1)\n",
        "\n",
        "      # Calculate the true class (index with value 1 in one-hot encoding) for each data point\n",
        "      true_class = np.argmax(y, axis=1)\n",
        "\n",
        "      # Compare the predicted class with the true class to determine correct predictions\n",
        "      correct_predictions = np.sum(predicted_class == true_class)\n",
        "      total_predictions = len(y)\n",
        "      accuracy = correct_predictions / total_predictions\n",
        "\n",
        "      return accuracy"
      ],
      "metadata": {
        "id": "wgHxOZ6Fo0Ie"
      },
      "execution_count": null,
      "outputs": []
    },
    {
      "cell_type": "markdown",
      "source": [
        "## Task 3\n"
      ],
      "metadata": {
        "id": "ew7lj2VEEYY2"
      }
    },
    {
      "cell_type": "markdown",
      "source": [
        "1. First of all, experiment with initializing your model weights in a few different ways. Create several MLPs with a single hidden\n",
        " layer having 128 units, initializing the weights as (1) all zeros (2) Uniform [-1, 1] (3) Gaussian N(0,1) (4) Xavier (5) Kaiming. After training these models, compare the effect of weight initialization on the training curves and test accuracy on the Fashion MNIST dataset.\n",
        "\n"
      ],
      "metadata": {
        "id": "2F95sU38Eilo"
      }
    },
    {
      "cell_type": "code",
      "source": [
        "mdl = MLP(784, 10, ReLU, relu_back, w_type=\"z\", hidden_layers=1, units_hlayers=128)\n",
        "# print(y2.shape)\n",
        "ce = mdl.fit(X_train, y_train)\n",
        "y2 = mdl.one_hot_encode(y_test)\n",
        "\n",
        "y_pred=mdl.predict(X_train)\n",
        "# print(y2.shape)\n",
        "# print(y_pred.shape)\n",
        "tr_acc = mdl.accuracy(X_test, y2)\n",
        "# print(y_pred)\n",
        "print(tr_acc)\n",
        "y3 = mdl.one_hot_encode(y_test)\n",
        "acc = mdl.accuracy(X_test, y3)\n",
        "print(acc)"
      ],
      "metadata": {
        "id": "ZJZrgBPPE6na",
        "colab": {
          "base_uri": "https://localhost:8080/"
        },
        "outputId": "7542465c-b4aa-4f1c-bd7e-e1837bb0cc90"
      },
      "execution_count": null,
      "outputs": [
        {
          "output_type": "stream",
          "name": "stderr",
          "text": [
            "<ipython-input-8-b646c230b106>:40: VisibleDeprecationWarning: Creating an ndarray from ragged nested sequences (which is a list-or-tuple of lists-or-tuples-or ndarrays with different lengths or shapes) is deprecated. If you meant to do this, you must specify 'dtype=object' when creating the ndarray.\n",
            "  return np.asarray([w, v, f])\n"
          ]
        },
        {
          "output_type": "stream",
          "name": "stdout",
          "text": [
            "0.1\n"
          ]
        }
      ]
    },
    {
      "cell_type": "code",
      "source": [
        "mdl = MLP(784, 10, ReLU, relu_back, w_type=\"u\", hidden_layers=1, units_hlayers=128)\n",
        "# print(y2.shape)\n",
        "ce = mdl.fit(X_train, y_train)\n",
        "y2 = mdl.one_hot_encode(y_train)\n",
        "\n",
        "y_pred=mdl.predict(X_train)\n",
        "# print(y2.shape)\n",
        "# print(y_pred.shape)\n",
        "tr_acc = mdl.accuracy(X_train, y2)\n",
        "# print(y_pred)\n",
        "print(tr_acc)\n",
        "y3 = mdl.one_hot_encode(y_test)\n",
        "acc = mdl.accuracy(X_test, y3)\n",
        "print(acc)\n"
      ],
      "metadata": {
        "id": "gr7cmH4fE-VJ",
        "colab": {
          "base_uri": "https://localhost:8080/",
          "height": 401
        },
        "outputId": "4747f655-e20d-4ce4-9bb9-15ceceb9dadd"
      },
      "execution_count": null,
      "outputs": [
        {
          "output_type": "stream",
          "name": "stdout",
          "text": [
            "v:  (784, 128)\n",
            "f:  (128, 10)\n"
          ]
        },
        {
          "output_type": "stream",
          "name": "stderr",
          "text": [
            "<ipython-input-26-f9688c7ea585>:51: VisibleDeprecationWarning: Creating an ndarray from ragged nested sequences (which is a list-or-tuple of lists-or-tuples-or ndarrays with different lengths or shapes) is deprecated. If you meant to do this, you must specify 'dtype=object' when creating the ndarray.\n",
            "  return np.asarray([v, f])\n"
          ]
        },
        {
          "output_type": "error",
          "ename": "KeyboardInterrupt",
          "evalue": "ignored",
          "traceback": [
            "\u001b[0;31m---------------------------------------------------------------------------\u001b[0m",
            "\u001b[0;31mKeyboardInterrupt\u001b[0m                         Traceback (most recent call last)",
            "\u001b[0;32m<ipython-input-27-186116094840>\u001b[0m in \u001b[0;36m<cell line: 3>\u001b[0;34m()\u001b[0m\n\u001b[1;32m      1\u001b[0m \u001b[0mmdl\u001b[0m \u001b[0;34m=\u001b[0m \u001b[0mMLP\u001b[0m\u001b[0;34m(\u001b[0m\u001b[0;36m784\u001b[0m\u001b[0;34m,\u001b[0m \u001b[0;36m10\u001b[0m\u001b[0;34m,\u001b[0m \u001b[0mReLU\u001b[0m\u001b[0;34m,\u001b[0m \u001b[0mrelu_back\u001b[0m\u001b[0;34m,\u001b[0m \u001b[0mw_type\u001b[0m\u001b[0;34m=\u001b[0m\u001b[0;34m\"u\"\u001b[0m\u001b[0;34m,\u001b[0m \u001b[0mhidden_layers\u001b[0m\u001b[0;34m=\u001b[0m\u001b[0;36m1\u001b[0m\u001b[0;34m,\u001b[0m \u001b[0munits_hlayers\u001b[0m\u001b[0;34m=\u001b[0m\u001b[0;36m128\u001b[0m\u001b[0;34m)\u001b[0m\u001b[0;34m\u001b[0m\u001b[0;34m\u001b[0m\u001b[0m\n\u001b[1;32m      2\u001b[0m \u001b[0;31m# print(y2.shape)\u001b[0m\u001b[0;34m\u001b[0m\u001b[0;34m\u001b[0m\u001b[0m\n\u001b[0;32m----> 3\u001b[0;31m \u001b[0mce\u001b[0m \u001b[0;34m=\u001b[0m \u001b[0mmdl\u001b[0m\u001b[0;34m.\u001b[0m\u001b[0mfit\u001b[0m\u001b[0;34m(\u001b[0m\u001b[0mX_train\u001b[0m\u001b[0;34m,\u001b[0m \u001b[0my_train\u001b[0m\u001b[0;34m)\u001b[0m\u001b[0;34m\u001b[0m\u001b[0;34m\u001b[0m\u001b[0m\n\u001b[0m\u001b[1;32m      4\u001b[0m \u001b[0my2\u001b[0m \u001b[0;34m=\u001b[0m \u001b[0mmdl\u001b[0m\u001b[0;34m.\u001b[0m\u001b[0mone_hot_encode\u001b[0m\u001b[0;34m(\u001b[0m\u001b[0my_train\u001b[0m\u001b[0;34m)\u001b[0m\u001b[0;34m\u001b[0m\u001b[0;34m\u001b[0m\u001b[0m\n\u001b[1;32m      5\u001b[0m \u001b[0;34m\u001b[0m\u001b[0m\n",
            "\u001b[0;32m<ipython-input-26-f9688c7ea585>\u001b[0m in \u001b[0;36mfit\u001b[0;34m(self, x, y_tr, learning_rate, max_iters, epsilon, lambda_l1, lambda_l2, batch_size)\u001b[0m\n\u001b[1;32m    287\u001b[0m             \u001b[0my_batch\u001b[0m \u001b[0;34m=\u001b[0m \u001b[0my_shuffled\u001b[0m\u001b[0;34m[\u001b[0m\u001b[0mbatch_start\u001b[0m\u001b[0;34m:\u001b[0m\u001b[0mbatch_end\u001b[0m\u001b[0;34m]\u001b[0m\u001b[0;34m\u001b[0m\u001b[0;34m\u001b[0m\u001b[0m\n\u001b[1;32m    288\u001b[0m \u001b[0;34m\u001b[0m\u001b[0m\n\u001b[0;32m--> 289\u001b[0;31m             \u001b[0myh\u001b[0m \u001b[0;34m=\u001b[0m \u001b[0mself\u001b[0m\u001b[0;34m.\u001b[0m\u001b[0mforward_pass\u001b[0m\u001b[0;34m(\u001b[0m\u001b[0mx_batch\u001b[0m\u001b[0;34m)\u001b[0m\u001b[0;34m\u001b[0m\u001b[0;34m\u001b[0m\u001b[0m\n\u001b[0m\u001b[1;32m    290\u001b[0m             \u001b[0mderivatives\u001b[0m \u001b[0;34m=\u001b[0m \u001b[0mself\u001b[0m\u001b[0;34m.\u001b[0m\u001b[0mbackprop\u001b[0m\u001b[0;34m(\u001b[0m\u001b[0my_batch\u001b[0m\u001b[0;34m,\u001b[0m \u001b[0myh\u001b[0m\u001b[0;34m)\u001b[0m\u001b[0;34m\u001b[0m\u001b[0;34m\u001b[0m\u001b[0m\n\u001b[1;32m    291\u001b[0m \u001b[0;34m\u001b[0m\u001b[0m\n",
            "\u001b[0;32m<ipython-input-26-f9688c7ea585>\u001b[0m in \u001b[0;36mforward_pass\u001b[0;34m(self, x)\u001b[0m\n\u001b[1;32m    163\u001b[0m         \u001b[0mself\u001b[0m\u001b[0;34m.\u001b[0m\u001b[0mf_params\u001b[0m \u001b[0;34m=\u001b[0m \u001b[0;34m[\u001b[0m\u001b[0;34m]\u001b[0m\u001b[0;34m\u001b[0m\u001b[0;34m\u001b[0m\u001b[0m\n\u001b[1;32m    164\u001b[0m \u001b[0;34m\u001b[0m\u001b[0m\n\u001b[0;32m--> 165\u001b[0;31m         \u001b[0mf1\u001b[0m \u001b[0;34m=\u001b[0m \u001b[0mnp\u001b[0m\u001b[0;34m.\u001b[0m\u001b[0mdot\u001b[0m\u001b[0;34m(\u001b[0m\u001b[0mx\u001b[0m\u001b[0;34m,\u001b[0m \u001b[0mself\u001b[0m\u001b[0;34m.\u001b[0m\u001b[0mweights\u001b[0m\u001b[0;34m[\u001b[0m\u001b[0;36m0\u001b[0m\u001b[0;34m]\u001b[0m\u001b[0;34m)\u001b[0m \u001b[0;31m#60K X 64\u001b[0m\u001b[0;34m\u001b[0m\u001b[0;34m\u001b[0m\u001b[0m\n\u001b[0m\u001b[1;32m    166\u001b[0m         \u001b[0;31m# print(\"f1: \",f1.shape)\u001b[0m\u001b[0;34m\u001b[0m\u001b[0;34m\u001b[0m\u001b[0m\n\u001b[1;32m    167\u001b[0m \u001b[0;34m\u001b[0m\u001b[0m\n",
            "\u001b[0;32m/usr/local/lib/python3.10/dist-packages/numpy/core/overrides.py\u001b[0m in \u001b[0;36mdot\u001b[0;34m(*args, **kwargs)\u001b[0m\n",
            "\u001b[0;31mKeyboardInterrupt\u001b[0m: "
          ]
        }
      ]
    },
    {
      "cell_type": "code",
      "source": [
        "mdl = MLP(784, 10, ReLU, relu_back, w_type=\"g\", hidden_layers=1, units_hlayers=128)\n",
        "# print(y2.shape)\n",
        "ce = mdl.fit(X_train, y_train)\n",
        "y2 = mdl.one_hot_encode(y_train)\n",
        "\n",
        "y_pred=mdl.predict(X_train)\n",
        "# print(y2.shape)\n",
        "# print(y_pred.shape)\n",
        "tr_acc = mdl.accuracy(X_train, y2)\n",
        "# print(y_pred)\n",
        "print(tr_acc)\n",
        "y3 = mdl.one_hot_encode(y_test)\n",
        "acc = mdl.accuracy(X_test, y3)\n",
        "print(acc)"
      ],
      "metadata": {
        "id": "pknZNVAbFCes"
      },
      "execution_count": null,
      "outputs": []
    },
    {
      "cell_type": "code",
      "source": [
        "mdl = MLP(784, 10, ReLU, relu_back, w_type=\"x\", hidden_layers=1, units_hlayers=128)\n",
        "# print(y2.shape)\n",
        "ce = mdl.fit(X_train, y_train)\n",
        "y2 = mdl.one_hot_encode(y_train)\n",
        "\n",
        "y_pred=mdl.predict(X_train)\n",
        "# print(y2.shape)\n",
        "# print(y_pred.shape)\n",
        "tr_acc = mdl.accuracy(X_train, y2)\n",
        "# print(y_pred)\n",
        "print(tr_acc)\n",
        "y3 = mdl.one_hot_encode(y_test)\n",
        "acc = mdl.accuracy(X_test, y3)\n",
        "print(acc)"
      ],
      "metadata": {
        "id": "8GfLqAQz2IQH",
        "colab": {
          "base_uri": "https://localhost:8080/"
        },
        "outputId": "c2bb30fd-19eb-4f02-bbcc-65b425596e36"
      },
      "execution_count": null,
      "outputs": [
        {
          "output_type": "stream",
          "name": "stderr",
          "text": [
            "<ipython-input-8-b646c230b106>:91: VisibleDeprecationWarning: Creating an ndarray from ragged nested sequences (which is a list-or-tuple of lists-or-tuples-or ndarrays with different lengths or shapes) is deprecated. If you meant to do this, you must specify 'dtype=object' when creating the ndarray.\n",
            "  return np.asarray([w, v, f])\n"
          ]
        },
        {
          "output_type": "stream",
          "name": "stdout",
          "text": [
            "0.97775\n"
          ]
        }
      ]
    },
    {
      "cell_type": "code",
      "source": [
        "mdl = MLP(784, 10, ReLU, relu_back, w_type=\"k\", hidden_layers=1, units_hlayers=128)\n",
        "# print(y2.shape)\n",
        "ce = mdl.fit(X_train, y_train)\n",
        "y2 = mdl.one_hot_encode(y_train)\n",
        "\n",
        "y_pred=mdl.predict(X_train)\n",
        "# print(y2.shape)\n",
        "# print(y_pred.shape)\n",
        "tr_acc = mdl.accuracy(X_train, y2)\n",
        "# print(y_pred)\n",
        "print(tr_acc)\n",
        "y3 = mdl.one_hot_encode(y_test)\n",
        "acc = mdl.accuracy(X_test, y3)\n",
        "print(acc)\n"
      ],
      "metadata": {
        "id": "sldz3sIiWgVY",
        "colab": {
          "base_uri": "https://localhost:8080/"
        },
        "outputId": "27638a11-1e9d-4dcc-cc02-648dea8f786b"
      },
      "execution_count": null,
      "outputs": [
        {
          "output_type": "stream",
          "name": "stderr",
          "text": [
            "<ipython-input-8-b646c230b106>:108: VisibleDeprecationWarning: Creating an ndarray from ragged nested sequences (which is a list-or-tuple of lists-or-tuples-or ndarrays with different lengths or shapes) is deprecated. If you meant to do this, you must specify 'dtype=object' when creating the ndarray.\n",
            "  return np.asarray([w, v, f])\n"
          ]
        },
        {
          "output_type": "stream",
          "name": "stdout",
          "text": [
            "0.9882166666666666\n"
          ]
        }
      ]
    },
    {
      "cell_type": "code",
      "source": [
        "\n",
        "learning_rates = [0.02, 0.01, 0.03]  # Define the learning rates to experiment with\n",
        "training_curves = {}  # Dictionary to store training curves for each learning rate\n",
        "\n",
        "for learning_rate in learning_rates:\n",
        "    mdl = MLP(784, 10, ReLU, relu_back, w_type=\"k\", hidden_layers=2)\n",
        "    costs = mdl.fit(X_train, y_train, learning_rate=learning_rate)  # Train the model\n",
        "\n",
        "    # Store the training curves (costs) for this learning rate\n",
        "    training_curves[f\"Learning Rate {learning_rate}\"] = costs\n",
        "\n",
        "# Plot the training curves for each learning rate\n",
        "plt.figure(figsize=(10, 6))\n",
        "for label, costs in training_curves.items():\n",
        "    plt.plot(range(len(costs)), costs, label=label)\n",
        "\n",
        "plt.xlabel('Epochs')\n",
        "plt.ylabel('Training Loss')\n",
        "plt.title('Training Curves for Different Learning Rates')\n",
        "plt.legend()\n",
        "plt.grid(True)\n",
        "plt.savefig('2.jpg')\n"
      ],
      "metadata": {
        "colab": {
          "base_uri": "https://localhost:8080/"
        },
        "id": "9ZS4MWs1Zj0h",
        "outputId": "a4ebb864-7601-4278-eabf-234aa3e479a5"
      },
      "execution_count": null,
      "outputs": [
        {
          "output_type": "stream",
          "name": "stderr",
          "text": [
            "<ipython-input-7-6c3f9629bcc3>:108: VisibleDeprecationWarning: Creating an ndarray from ragged nested sequences (which is a list-or-tuple of lists-or-tuples-or ndarrays with different lengths or shapes) is deprecated. If you meant to do this, you must specify 'dtype=object' when creating the ndarray.\n",
            "  return np.asarray([w, v, f])\n"
          ]
        }
      ]
    },
    {
      "cell_type": "code",
      "source": [
        "\n",
        "# Create MLP instances with different weight initializations\n",
        "weight_initializations = ['zero', 'uniform', 'gaussian', 'xavier', 'kaiming']\n",
        "models = []\n",
        "\n",
        "for w_type in weight_initializations:\n",
        "    model = MLP(784, 10, ReLU, relu_back, w_type=w_type[0], hidden_layers=1, units_hlayers=128)\n",
        "    models.append(model)\n",
        "\n",
        "# Train and evaluate each model\n",
        "all_costs = []\n",
        "\n",
        "for model in models:\n",
        "    print(f\"Training model with weight initialization: {model.w_type}\")\n",
        "    costs = model.fit(X_train, y_train)\n",
        "    all_costs.append(costs)\n",
        "\n",
        "\n",
        "\n",
        "# Plot the training progress for all weight initialization methods\n",
        "plt.figure()\n",
        "for i, init_method in enumerate(weight_initializations):\n",
        "    plt.plot(range(1, len(all_costs[i]) + 1), all_costs[i], label=init_method)\n",
        "\n",
        "plt.xlabel('Epochs')\n",
        "plt.ylabel('Average Cost')\n",
        "plt.title('Training Progress for Different Weight Initialization Methods')\n",
        "plt.legend()\n",
        "plt.show()\n"
      ],
      "metadata": {
        "colab": {
          "base_uri": "https://localhost:8080/",
          "height": 938
        },
        "id": "zqhUmOlR42Cq",
        "outputId": "2107d562-5be8-4f67-bbea-2a52b4d5a8d5"
      },
      "execution_count": null,
      "outputs": [
        {
          "output_type": "stream",
          "name": "stdout",
          "text": [
            "v:  (784, 128)\n",
            "f:  (128, 10)\n",
            "v:  (784, 128)\n",
            "f:  (128, 10)\n",
            "v:  (784, 128)\n",
            "f:  (128, 10)\n",
            "v:  (784, 128)\n",
            "f:  (128, 10)\n",
            "v:  (784, 128)\n",
            "f:  (128, 10)\n",
            "Training model with weight initialization: z\n"
          ]
        },
        {
          "output_type": "stream",
          "name": "stderr",
          "text": [
            "<ipython-input-26-f9688c7ea585>:33: VisibleDeprecationWarning: Creating an ndarray from ragged nested sequences (which is a list-or-tuple of lists-or-tuples-or ndarrays with different lengths or shapes) is deprecated. If you meant to do this, you must specify 'dtype=object' when creating the ndarray.\n",
            "  return np.asarray([v, f])\n",
            "<ipython-input-26-f9688c7ea585>:51: VisibleDeprecationWarning: Creating an ndarray from ragged nested sequences (which is a list-or-tuple of lists-or-tuples-or ndarrays with different lengths or shapes) is deprecated. If you meant to do this, you must specify 'dtype=object' when creating the ndarray.\n",
            "  return np.asarray([v, f])\n",
            "<ipython-input-26-f9688c7ea585>:68: VisibleDeprecationWarning: Creating an ndarray from ragged nested sequences (which is a list-or-tuple of lists-or-tuples-or ndarrays with different lengths or shapes) is deprecated. If you meant to do this, you must specify 'dtype=object' when creating the ndarray.\n",
            "  return np.asarray([v, f])\n",
            "<ipython-input-26-f9688c7ea585>:85: VisibleDeprecationWarning: Creating an ndarray from ragged nested sequences (which is a list-or-tuple of lists-or-tuples-or ndarrays with different lengths or shapes) is deprecated. If you meant to do this, you must specify 'dtype=object' when creating the ndarray.\n",
            "  return np.asarray([v, f])\n",
            "<ipython-input-26-f9688c7ea585>:102: VisibleDeprecationWarning: Creating an ndarray from ragged nested sequences (which is a list-or-tuple of lists-or-tuples-or ndarrays with different lengths or shapes) is deprecated. If you meant to do this, you must specify 'dtype=object' when creating the ndarray.\n",
            "  return np.asarray([v, f])\n"
          ]
        },
        {
          "output_type": "stream",
          "name": "stdout",
          "text": [
            "Training model with weight initialization: u\n",
            "Training model with weight initialization: g\n",
            "Training model with weight initialization: x\n",
            "Training model with weight initialization: k\n"
          ]
        },
        {
          "output_type": "display_data",
          "data": {
            "text/plain": [
              "<Figure size 640x480 with 1 Axes>"
            ],
            "image/png": "[encoded data removed]"
          },
          "metadata": {}
        }
      ]
    },
    {
      "cell_type": "code",
      "source": [
        "plt.savefig('1.jpg')"
      ],
      "metadata": {
        "colab": {
          "base_uri": "https://localhost:8080/",
          "height": 35
        },
        "id": "1iRZQnKoazAf",
        "outputId": "34a2931b-d056-44a0-9b8c-918963a1ae05"
      },
      "execution_count": null,
      "outputs": [
        {
          "output_type": "display_data",
          "data": {
            "text/plain": [
              "<Figure size 640x480 with 0 Axes>"
            ]
          },
          "metadata": {}
        }
      ]
    },
    {
      "cell_type": "markdown",
      "source": [
        "2. Create three different models: (1) an MLP with no hidden layers, i.e., it directly maps the inputs to outputs, (2) an MLP with a single hidden layer having 128 units and ReLU activations, (3) an MLP with 2 hidden layers each having 128 units with ReLU activations. It should be noted that since we want to perform classification, all of these models should have a softmax layer at the end. After training, compare the test accuracy of these three models on the Fashion MNIST dataset. Comment on how non-linearity and network depth affects the accuracy. Are the results that you obtain expected?\n",
        "\n"
      ],
      "metadata": {
        "id": "Yhu2rilrFP3y"
      }
    },
    {
      "cell_type": "code",
      "source": [
        "#(1) an MLP with no hidden layers\n",
        "mdl = MLP(784, 10, ReLU, relu_back, w_type=\"k\", hidden_layers=0)\n",
        "# print(y2.shape)\n",
        "ce = mdl.fit(X_train, y_train)\n",
        "y2 = mdl.one_hot_encode(y_train)\n",
        "\n",
        "y_pred=mdl.predict(X_train)\n",
        "# print(y2.shape)\n",
        "# print(y_pred.shape)\n",
        "tr_acc = mdl.accuracy(X_train, y2)\n",
        "# print(y_pred)\n",
        "print(tr_acc)\n",
        "y3 = mdl.one_hot_encode(y_test)\n",
        "acc = mdl.accuracy(X_test, y3)\n",
        "print(acc)"
      ],
      "metadata": {
        "id": "1QBnkMf-HF9l",
        "colab": {
          "base_uri": "https://localhost:8080/"
        },
        "outputId": "ccc5adc0-68d4-4602-fab0-436d6ae5edd5"
      },
      "execution_count": null,
      "outputs": [
        {
          "output_type": "stream",
          "name": "stdout",
          "text": [
            "0.8770166666666667\n",
            "0.8423\n"
          ]
        }
      ]
    },
    {
      "cell_type": "code",
      "source": [
        "#2) an MLP with a single hidden layer having 128 units and ReLU activations\n",
        "mdl = MLP(784, 10, ReLU, relu_back, w_type=\"k\", hidden_layers=1, units_hlayers=128)\n",
        "# print(y2.shape)\n",
        "ce = mdl.fit(X_train, y_train)\n",
        "y2 = mdl.one_hot_encode(y_train)\n",
        "\n",
        "y_pred=mdl.predict(X_train)\n",
        "# print(y2.shape)\n",
        "# print(y_pred.shape)\n",
        "tr_acc = mdl.accuracy(X_train, y2)\n",
        "# print(y_pred)\n",
        "print(tr_acc)\n",
        "y3 = mdl.one_hot_encode(y_test)\n",
        "acc = mdl.accuracy(X_test, y3)\n",
        "print(acc)"
      ],
      "metadata": {
        "id": "q6e0ClmuHUwM",
        "colab": {
          "base_uri": "https://localhost:8080/"
        },
        "outputId": "d0b7ffad-1b6e-484a-c2f9-3ebe2b20431b"
      },
      "execution_count": null,
      "outputs": [
        {
          "output_type": "stream",
          "name": "stdout",
          "text": [
            "v:  (784, 128)\n",
            "f:  (128, 10)\n"
          ]
        },
        {
          "output_type": "stream",
          "name": "stderr",
          "text": [
            "<ipython-input-36-c6f98a091e40>:102: VisibleDeprecationWarning: Creating an ndarray from ragged nested sequences (which is a list-or-tuple of lists-or-tuples-or ndarrays with different lengths or shapes) is deprecated. If you meant to do this, you must specify 'dtype=object' when creating the ndarray.\n",
            "  return np.asarray([v, f])\n"
          ]
        },
        {
          "output_type": "stream",
          "name": "stdout",
          "text": [
            "0.9807\n",
            "0.888\n"
          ]
        }
      ]
    },
    {
      "cell_type": "code",
      "source": [
        "#(3) an MLP with 2 hidden layers each having 128 units with ReLU activations.\n",
        "mdl = MLP(784, 10, ReLU, relu_back, w_type=\"k\", hidden_layers=2, units_hlayers=128)\n",
        "# print(y2.shape)\n",
        "ce = mdl.fit(X_train, y_train)\n",
        "y2 = mdl.one_hot_encode(y_train)\n",
        "\n",
        "y_pred=mdl.predict(X_train)\n",
        "# print(y2.shape)\n",
        "# print(y_pred.shape)\n",
        "tr_acc = mdl.accuracy(X_train, y2)\n",
        "# print(y_pred)\n",
        "print(tr_acc)\n",
        "y3 = mdl.one_hot_encode(y_test)\n",
        "acc = mdl.accuracy(X_test, y3)\n",
        "print(acc)\n"
      ],
      "metadata": {
        "id": "3XY4MEfxHmCe",
        "colab": {
          "base_uri": "https://localhost:8080/"
        },
        "outputId": "bb0cc9fb-eb3f-4028-e3a6-a2a6be456a16"
      },
      "execution_count": null,
      "outputs": [
        {
          "output_type": "stream",
          "name": "stderr",
          "text": [
            "<ipython-input-8-b646c230b106>:108: VisibleDeprecationWarning: Creating an ndarray from ragged nested sequences (which is a list-or-tuple of lists-or-tuples-or ndarrays with different lengths or shapes) is deprecated. If you meant to do this, you must specify 'dtype=object' when creating the ndarray.\n",
            "  return np.asarray([w, v, f])\n"
          ]
        },
        {
          "output_type": "stream",
          "name": "stdout",
          "text": [
            "0.9862166666666666\n",
            "0.8734\n"
          ]
        }
      ]
    },
    {
      "cell_type": "markdown",
      "source": [
        "3. Take the last model above, the one with 2 hidden layers, and create two different copies of it in which you pick two activations of your choice (except ReLU) from the course slides. After training these two models on Fashion MNIST compare their test accuracies with the model with ReLU activations. Comment on the performances of these models: which one is better and why? Are certain activations better than others? If the results are not as you expected, what could be the reason?"
      ],
      "metadata": {
        "id": "WYCKckYwITki"
      }
    },
    {
      "cell_type": "code",
      "source": [
        "#tanh\n",
        "mdl = MLP(784, 10, tanh, tanh_back, w_type=\"k\", hidden_layers=2, units_hlayers=128)\n",
        "# print(y2.shape)\n",
        "ce = mdl.fit(X_train, y_train)\n",
        "y2 = mdl.one_hot_encode(y_train)\n",
        "\n",
        "y_pred=mdl.predict(X_train)\n",
        "# print(y2.shape)\n",
        "# print(y_pred.shape)\n",
        "tr_acc = mdl.accuracy(X_train, y2)\n",
        "# print(y_pred)\n",
        "print(tr_acc)\n",
        "y3 = mdl.one_hot_encode(y_test)\n",
        "acc = mdl.accuracy(X_test, y3)\n",
        "print(acc)\n",
        "\n"
      ],
      "metadata": {
        "id": "A5LBSibQIWbl",
        "colab": {
          "base_uri": "https://localhost:8080/"
        },
        "outputId": "f92c9565-42bc-4c78-8715-d00118b5d410"
      },
      "execution_count": null,
      "outputs": [
        {
          "output_type": "stream",
          "name": "stderr",
          "text": [
            "<ipython-input-36-c6f98a091e40>:108: VisibleDeprecationWarning: Creating an ndarray from ragged nested sequences (which is a list-or-tuple of lists-or-tuples-or ndarrays with different lengths or shapes) is deprecated. If you meant to do this, you must specify 'dtype=object' when creating the ndarray.\n",
            "  return np.asarray([w, v, f])\n"
          ]
        },
        {
          "output_type": "stream",
          "name": "stdout",
          "text": [
            "0.9828166666666667\n",
            "0.872\n"
          ]
        }
      ]
    },
    {
      "cell_type": "code",
      "source": [
        "#leaky relu\n",
        "mdl = MLP(784, 10, leaky_relu, leaky_relu_back, w_type=\"k\", hidden_layers=2, units_hlayers=128)\n",
        "# print(y2.shape)\n",
        "ce = mdl.fit(X_train, y_train)\n",
        "y2 = mdl.one_hot_encode(y_train)\n",
        "\n",
        "y_pred=mdl.predict(X_train)\n",
        "# print(y2.shape)\n",
        "# print(y_pred.shape)\n",
        "tr_acc = mdl.accuracy(X_train, y2)\n",
        "# print(y_pred)\n",
        "print(tr_acc)\n",
        "y3 = mdl.one_hot_encode(y_test)\n",
        "acc = mdl.accuracy(X_test, y3)\n",
        "print(acc)"
      ],
      "metadata": {
        "colab": {
          "base_uri": "https://localhost:8080/"
        },
        "id": "CqfYF8SL9_U7",
        "outputId": "214c2122-a90c-4ef0-a1d1-cfcfa0afd1a4"
      },
      "execution_count": null,
      "outputs": [
        {
          "output_type": "stream",
          "name": "stderr",
          "text": [
            "<ipython-input-36-c6f98a091e40>:108: VisibleDeprecationWarning: Creating an ndarray from ragged nested sequences (which is a list-or-tuple of lists-or-tuples-or ndarrays with different lengths or shapes) is deprecated. If you meant to do this, you must specify 'dtype=object' when creating the ndarray.\n",
            "  return np.asarray([w, v, f])\n"
          ]
        }
      ]
    },
    {
      "cell_type": "markdown",
      "source": [
        "4. Create an MLP with 2 hidden layers each having 128 units with ReLU activations as above. However, this time, independently add L1 and L2 regularization to the network and train the MLP in this way. How do these\n",
        "regularizations affect the accuracy? (This proportion can be varied as a tunable hyperparameter that can be explored as part of other project requirements)"
      ],
      "metadata": {
        "id": "wO3ICTp3JJPb"
      }
    },
    {
      "cell_type": "code",
      "source": [
        "#(3) an MLP with 2 hidden layers each having 128 units with ReLU activations.\n",
        "mdl = MLP(784, 10, ReLU, relu_back, w_type=\"k\", hidden_layers=2, units_hlayers=128, regularization = True)\n",
        "# print(y2.shape)\n",
        "ce = mdl.fit(X_train, y_train, l2=True)\n",
        "y2 = mdl.one_hot_encode(y_train)\n",
        "\n",
        "y_pred=mdl.predict(X_train)\n",
        "# print(y2.shape)\n",
        "# print(y_pred.shape)\n",
        "tr_acc = mdl.accuracy(X_train, y2)\n",
        "# print(y_pred)\n",
        "print(tr_acc)\n",
        "y3 = mdl.one_hot_encode(y_test)\n",
        "acc = mdl.accuracy(X_test, y3)\n",
        "print(acc)\n",
        "\n",
        "#(3) an MLP with 2 hidden layers each having 128 units with ReLU activations.\n",
        "mdl = MLP(784, 10, ReLU, relu_back, w_type=\"k\", hidden_layers=2, units_hlayers=128, regularization = True)\n",
        "# print(y2.shape)\n",
        "ce = mdl.fit(X_train, y_train, l1=True)\n",
        "y2 = mdl.one_hot_encode(y_train)\n",
        "\n",
        "y_pred=mdl.predict(X_train)\n",
        "# print(y2.shape)\n",
        "# print(y_pred.shape)\n",
        "tr_acc = mdl.accuracy(X_train, y2)\n",
        "# print(y_pred)\n",
        "print(tr_acc)\n",
        "y3 = mdl.one_hot_encode(y_test)\n",
        "acc = mdl.accuracy(X_test, y3)\n",
        "print(acc)\n",
        "\n"
      ],
      "metadata": {
        "id": "Y6WuY_awJL9C",
        "colab": {
          "base_uri": "https://localhost:8080/"
        },
        "outputId": "3a79a2f5-e713-4887-83c9-eb449c2df01a"
      },
      "execution_count": null,
      "outputs": [
        {
          "output_type": "stream",
          "name": "stderr",
          "text": [
            "<ipython-input-38-6c3f9629bcc3>:108: VisibleDeprecationWarning: Creating an ndarray from ragged nested sequences (which is a list-or-tuple of lists-or-tuples-or ndarrays with different lengths or shapes) is deprecated. If you meant to do this, you must specify 'dtype=object' when creating the ndarray.\n",
            "  return np.asarray([w, v, f])\n"
          ]
        },
        {
          "output_type": "stream",
          "name": "stdout",
          "text": [
            "0.8973333333333333\n",
            "0.869\n",
            "0.6631833333333333\n",
            "0.6533\n"
          ]
        }
      ]
    },
    {
      "cell_type": "markdown",
      "source": [
        "\n",
        "5. Create an MLP with 2 hidden layers each having 128 units with ReLU activations as above. However, this time, train it with unnormalized images. How does this affect the accuracy?"
      ],
      "metadata": {
        "id": "xaVbrLl7JWfv"
      }
    },
    {
      "cell_type": "code",
      "source": [
        "#(3) an MLP with 2 hidden layers each having 128 units with ReLU activations.\n",
        "mdl = MLP(784, 10, ReLU, relu_back, w_type=\"k\", hidden_layers=2, units_hlayers=128)\n",
        "# print(y2.shape)\n",
        "ce = mdl.fit(X_train_unnorm, y_train)\n",
        "y2 = mdl.one_hot_encode(y_train)\n",
        "\n",
        "y_pred=mdl.predict(X_train)\n",
        "# print(y2.shape)\n",
        "# print(y_pred.shape)\n",
        "tr_acc = mdl.accuracy(X_train_unnorm, y2)\n",
        "# print(y_pred)\n",
        "print(tr_acc)\n",
        "y3 = mdl.one_hot_encode(y_test)\n",
        "acc = mdl.accuracy(X_test_unnorm, y3)\n",
        "print(acc)\n"
      ],
      "metadata": {
        "id": "lI-uNr0SJcON",
        "colab": {
          "base_uri": "https://localhost:8080/"
        },
        "outputId": "031d7c2a-7ecf-482a-d9a0-4de4abc00254"
      },
      "execution_count": null,
      "outputs": [
        {
          "output_type": "stream",
          "name": "stderr",
          "text": [
            "<ipython-input-26-f9688c7ea585>:108: VisibleDeprecationWarning: Creating an ndarray from ragged nested sequences (which is a list-or-tuple of lists-or-tuples-or ndarrays with different lengths or shapes) is deprecated. If you meant to do this, you must specify 'dtype=object' when creating the ndarray.\n",
            "  return np.asarray([w, v, f])\n"
          ]
        },
        {
          "output_type": "stream",
          "name": "stdout",
          "text": [
            "0.10006666666666666\n",
            "0.1001\n"
          ]
        }
      ]
    },
    {
      "cell_type": "markdown",
      "source": [
        "6. Using PyTorch, create a convolutional neural network (CNN) with 2 convolutional and 2 fully connected layers.\n",
        "Although you are free in your choice of the hyperparameters of the convolutional layers,\n",
        "set the number of units in the fully connected layers to be 128. Also, set the activations in all of the layers to be ReLU.\n",
        "Train this CNN on the Fashion MNIST dataset. Does using a CNN increase/decrease the accuracy compared to using MLPs? Provide comments on your results.\n"
      ],
      "metadata": {
        "id": "oNc0VygQKFvs"
      }
    },
    {
      "cell_type": "code",
      "source": [
        "# 6. Mostly inspired from https://pytorch.org/tutorials/beginner/blitz/cifar10_tutorial.html\n",
        "import torch\n",
        "import torch.nn as nn\n",
        "import torch.optim as optim\n",
        "import torchvision\n",
        "import torch.nn.functional as F\n",
        "import torchvision.transforms as transforms\n",
        "from torch.utils.data import DataLoader\n",
        "import torch.optim as optim\n",
        "\n",
        "class FashionCNN(nn.Module):\n",
        "    def __init__(self):\n",
        "        super(FashionCNN, self).__init__()\n",
        "        self.conv1 = nn.Conv2d(in_channels=1, out_channels=16, kernel_size=5)\n",
        "        self.relu1 = nn.ReLU()\n",
        "        self.pool = nn.MaxPool2d(kernel_size=2)\n",
        "        self.conv2 = nn.Conv2d(in_channels=16, out_channels=32, kernel_size=5)\n",
        "        self.relu2 = nn.ReLU()\n",
        "        self.maxpool2 = nn.MaxPool2d(kernel_size=2)\n",
        "        self.fc1 = nn.Linear(32 * 4 * 4, 128)\n",
        "        self.relu3 = nn.ReLU()\n",
        "        self.fc2 = nn.Linear(128, 128)\n",
        "        self.fc3 = nn.Linear(128, 10)\n",
        "\n",
        "    def forward(self, x):\n",
        "        x = self.pool(F.relu(self.conv1(x)))\n",
        "        x = self.pool(F.relu(self.conv2(x)))\n",
        "        x = torch.flatten(x, 1) # flatten all dimensions except batch\n",
        "        x = F.relu(self.fc1(x))\n",
        "        x = F.relu(self.fc2(x))\n",
        "        x = self.fc3(x)\n",
        "        return x\n",
        "\n"
      ],
      "metadata": {
        "id": "UM8uRAVuzYSr"
      },
      "execution_count": null,
      "outputs": []
    },
    {
      "cell_type": "code",
      "source": [
        "net = FashionCNN()\n",
        "\n",
        "batch_size = 64\n",
        "learning_rate = 0.001\n",
        "num_epochs = 2\n",
        "\n",
        "transform = transforms.Compose([transforms.ToTensor(), transforms.Normalize((0.5,), (0.5,))])\n",
        "train_dataset = torchvision.datasets.FashionMNIST(root='./data', train=True, transform=transform, download=True)\n",
        "test_dataset = torchvision.datasets.FashionMNIST(root='./data', train=False, transform=transform, download=True)\n",
        "\n",
        "trainloader = DataLoader(train_dataset, batch_size=batch_size, shuffle=True)\n",
        "testloader = DataLoader(test_dataset, batch_size=batch_size, shuffle=True)\n",
        "\n",
        "model = FashionCNN()\n",
        "criterion = nn.CrossEntropyLoss()\n",
        "optimizer = optim.SGD(net.parameters(), lr=learning_rate, momentum=0.9)\n",
        "\n",
        "# Training loop\n",
        "for epoch in range(num_epochs):  # loop over the dataset multiple times\n",
        "\n",
        "    running_loss = 0.0\n",
        "    for i, data in enumerate(trainloader, 0):\n",
        "        # get the inputs; data is a list of [inputs, labels]\n",
        "        inputs, labels = data\n",
        "\n",
        "        # zero the parameter gradients\n",
        "        optimizer.zero_grad()\n",
        "\n",
        "        # forward + backward + optimize\n",
        "        outputs = net(inputs)\n",
        "        loss = criterion(outputs, labels)\n",
        "        loss.backward()\n",
        "        optimizer.step()\n",
        "\n",
        "        # print statistics\n",
        "        running_loss += loss.item()\n",
        "        # print(f'[{epoch + 1}, {i + 1:5d}] loss: {running_loss / 2000:.3f}')\n",
        "        if i % 937 == 936:    # print every 2000 mini-batches\n",
        "            print(f'[{epoch + 1}, {i + 1:5d}] loss: {running_loss / 937:.3f}')\n",
        "            running_loss = 0.0\n",
        "\n",
        "print('Finished Training')\n",
        "torch.save(net.state_dict(), 'fashion_mnist_cnn_model.pth')"
      ],
      "metadata": {
        "id": "vccmpAhvlNH2"
      },
      "execution_count": null,
      "outputs": []
    },
    {
      "cell_type": "code",
      "source": [
        "# dataiter = iter(trainloader)\n",
        "# images, labels = next(dataiter)\n",
        "transform = transforms.Compose([transforms.ToTensor(), transforms.Normalize((0.5,), (0.5,))])\n",
        "train_dataset = torchvision.datasets.FashionMNIST(root='./data', train=True, transform=transform, download=True)\n",
        "test_dataset = torchvision.datasets.FashionMNIST(root='./data', train=False, transform=transform, download=True)\n",
        "\n",
        "trainloader = DataLoader(train_dataset, batch_size=batch_size, shuffle=True)\n",
        "testloader = DataLoader(test_dataset, batch_size=batch_size, shuffle=True)\n",
        "\n",
        "dataiter = iter(testloader)\n",
        "images, labels = next(dataiter)\n",
        "\n",
        "net = FashionCNN()\n",
        "net.load_state_dict(torch.load(\"/content/fashion_mnist_cnn_model.pth\"))\n",
        "outputs = net(images)\n",
        "\n",
        "correct = 0\n",
        "total = 0\n",
        "# since we're not training, we don't need to calculate the gradients for our outputs\n",
        "with torch.no_grad():\n",
        "    for data in testloader:\n",
        "        images, labels = data\n",
        "        # calculate outputs by running images through the network\n",
        "        outputs = net(images)\n",
        "        # the class with the highest energy is what we choose as prediction\n",
        "        _, predicted = torch.max(outputs.data, 1)\n",
        "        total += labels.size(0)\n",
        "        correct += (predicted == labels).sum().item()\n",
        "\n",
        "print(f'Accuracy of the network on the 10000 test images: {100 * correct // total} %')"
      ],
      "metadata": {
        "colab": {
          "base_uri": "https://localhost:8080/"
        },
        "id": "-scWXqexrGAl",
        "outputId": "ba9db0eb-24ce-4fa0-89ba-7cd800fcfe01"
      },
      "execution_count": null,
      "outputs": [
        {
          "output_type": "stream",
          "name": "stdout",
          "text": [
            "Accuracy of the network on the 10000 test images: 75 %\n"
          ]
        }
      ]
    },
    {
      "cell_type": "markdown",
      "source": [
        "7. Now using the CIFAR-10 dataset, train an MLP using your implementation (with whatever layer dimensions you like), and a CNN with the same architecture restrictions as in (6). How does using a CNN increase/decrease the accuracy compared to using MLPs on this dataset?"
      ],
      "metadata": {
        "id": "jfg37PPgvqjI"
      }
    },
    {
      "cell_type": "code",
      "source": [
        "transform = transforms.Compose(\n",
        "    [transforms.ToTensor(),\n",
        "     transforms.Normalize((0.5, 0.5, 0.5), (0.5, 0.5, 0.5))])\n",
        "\n",
        "batch_size = 4\n",
        "\n",
        "trainset = torchvision.datasets.CIFAR10(root='./data', train=True,\n",
        "                                        download=True, transform=transform)\n",
        "trainloader = torch.utils.data.DataLoader(trainset, batch_size=batch_size,\n",
        "                                          shuffle=True, num_workers=2)\n",
        "\n",
        "testset = torchvision.datasets.CIFAR10(root='./data', train=False,\n",
        "                                       download=True, transform=transform)\n",
        "testloader = torch.utils.data.DataLoader(testset, batch_size=batch_size,\n",
        "                                         shuffle=False, num_workers=2)\n",
        "\n",
        "classes = ('plane', 'car', 'bird', 'cat',\n",
        "           'deer', 'dog', 'frog', 'horse', 'ship', 'truck')"
      ],
      "metadata": {
        "id": "wq1pnbtHwrCa",
        "colab": {
          "base_uri": "https://localhost:8080/"
        },
        "outputId": "ba00dfe3-0429-4fc0-aac4-8e1bd94d4fb8"
      },
      "execution_count": null,
      "outputs": [
        {
          "output_type": "stream",
          "name": "stdout",
          "text": [
            "Downloading https://www.cs.toronto.edu/~kriz/cifar-10-python.tar.gz to ./data/cifar-10-python.tar.gz\n"
          ]
        },
        {
          "output_type": "stream",
          "name": "stderr",
          "text": [
            "100%|██████████| 170498071/170498071 [00:04<00:00, 40876662.73it/s]\n"
          ]
        },
        {
          "output_type": "stream",
          "name": "stdout",
          "text": [
            "Extracting ./data/cifar-10-python.tar.gz to ./data\n",
            "Files already downloaded and verified\n"
          ]
        }
      ]
    },
    {
      "cell_type": "code",
      "source": [
        "# https://pytorch.org/tutorials/beginner/blitz/cifar10_tutorial.html\n",
        "\n",
        "import torch.nn as nn\n",
        "import torch.nn.functional as F\n",
        "\n",
        "class CifarCNN(nn.Module):\n",
        "    def __init__(self):\n",
        "        super().__init__()\n",
        "        self.conv1 = nn.Conv2d(3, 6, 5)\n",
        "        self.pool = nn.MaxPool2d(2, 2)\n",
        "        self.conv2 = nn.Conv2d(6, 16, 5)\n",
        "        self.fc1 = nn.Linear(16 * 5 * 5, 128)\n",
        "        self.fc2 = nn.Linear(128, 128)\n",
        "        self.fc3 = nn.Linear(128, 10)\n",
        "\n",
        "    def forward(self, x):\n",
        "        x = self.pool(F.relu(self.conv1(x)))\n",
        "        x = self.pool(F.relu(self.conv2(x)))\n",
        "        x = torch.flatten(x, 1) # flatten all dimensions except batch\n",
        "        x = F.relu(self.fc1(x))\n",
        "        x = F.relu(self.fc2(x))\n",
        "        x = self.fc3(x)\n",
        "        return x\n",
        "\n",
        "net = CifarCNN()\n",
        "\n",
        "\n"
      ],
      "metadata": {
        "id": "B6S-ok8MVB4L"
      },
      "execution_count": null,
      "outputs": []
    },
    {
      "cell_type": "code",
      "source": [
        "import torch.optim as optim\n",
        "\n",
        "criterion = nn.CrossEntropyLoss()\n",
        "optimizer = optim.SGD(net.parameters(), lr=0.001, momentum=0.9)\n",
        "\n",
        "for epoch in range(2):  # loop over the dataset multiple times\n",
        "\n",
        "    running_loss = 0.0\n",
        "    for i, data in enumerate(trainloader, 0):\n",
        "        # get the inputs; data is a list of [inputs, labels]\n",
        "        inputs, labels = data\n",
        "\n",
        "        # zero the parameter gradients\n",
        "        optimizer.zero_grad()\n",
        "\n",
        "        # forward + backward + optimize\n",
        "        outputs = net(inputs)\n",
        "        loss = criterion(outputs, labels)\n",
        "        loss.backward()\n",
        "        optimizer.step()\n",
        "\n",
        "        # print statistics\n",
        "        running_loss += loss.item()\n",
        "        if i % 2000 == 1999:    # print every 2000 mini-batches\n",
        "            print(f'[{epoch + 1}, {i + 1:5d}] loss: {running_loss / 2000:.3f}')\n",
        "            running_loss = 0.0\n",
        "\n",
        "print('Finished Training')\n",
        "PATH = './cifar_net.pth'\n",
        "torch.save(net.state_dict(), PATH)"
      ],
      "metadata": {
        "id": "fMMxTSYbTbRc"
      },
      "execution_count": null,
      "outputs": []
    },
    {
      "cell_type": "code",
      "source": [
        "net = CifarCNN()\n",
        "net.load_state_dict(torch.load(PATH))"
      ],
      "metadata": {
        "id": "bhQ3vRv1vh5z",
        "colab": {
          "base_uri": "https://localhost:8080/"
        },
        "outputId": "07e3d217-34d4-48de-f978-8062970cf387"
      },
      "execution_count": null,
      "outputs": [
        {
          "output_type": "execute_result",
          "data": {
            "text/plain": [
              "<All keys matched successfully>"
            ]
          },
          "metadata": {},
          "execution_count": 22
        }
      ]
    },
    {
      "cell_type": "code",
      "source": [
        "correct = 0\n",
        "total = 0\n",
        "# since we're not training, we don't need to calculate the gradients for our outputs\n",
        "with torch.no_grad():\n",
        "    for data in testloader:\n",
        "        images, labels = data\n",
        "        # calculate outputs by running images through the network\n",
        "        outputs = net(images)\n",
        "        # the class with the highest energy is what we choose as prediction\n",
        "        _, predicted = torch.max(outputs.data, 1)\n",
        "        total += labels.size(0)\n",
        "        correct += (predicted == labels).sum().item()\n",
        "\n",
        "print(f'Accuracy of the network on the 10000 test images: {100 * correct // total} %')"
      ],
      "metadata": {
        "colab": {
          "base_uri": "https://localhost:8080/"
        },
        "id": "Gu7BdmpXBjIW",
        "outputId": "3fb6080d-2565-4d90-ac34-28c28eceb527"
      },
      "execution_count": null,
      "outputs": [
        {
          "output_type": "stream",
          "name": "stdout",
          "text": [
            "Accuracy of the network on the 10000 test images: 54 %\n"
          ]
        }
      ]
    },
    {
      "cell_type": "code",
      "source": [],
      "metadata": {
        "id": "UEosKM-SB5i9"
      },
      "execution_count": null,
      "outputs": []
    },
    {
      "cell_type": "markdown",
      "source": [
        "8. In your CNN implemented with PyTorch, investigate the effects of optimizer on performance on the CIFAR- 10 dataset. Using an SGD optimizer, set the momentum factor to zero, and then try to increase it. How does changing this value impact the training and performance of the network in terms of convergence speed, final accuracy, and stability? How do these compare if you instead use an Adam optimizer?"
      ],
      "metadata": {
        "id": "RpFTu8TlCRTZ"
      }
    },
    {
      "cell_type": "code",
      "source": [
        "net = CifarCNN()\n",
        "\n",
        "import torch.optim as optim\n",
        "import time\n",
        "\n",
        "criterion = nn.CrossEntropyLoss()\n",
        "\n",
        "for j in [0,0.1,0.5,0.7,0.9]:\n",
        "  net = CifarCNN()\n",
        "\n",
        "  numStr = str(j)\n",
        "\n",
        "  # print(PATH)\n",
        "  optimizer = optim.SGD(net.parameters(), lr=0.001, momentum=j)\n",
        "  # optimizer = optim.Adam(model.parameters(), lr=0.001, momentum=i)\n",
        "  start = time.time()\n",
        "\n",
        "  for epoch in range(2):  # loop over the dataset multiple times\n",
        "\n",
        "      running_loss = 0.0\n",
        "      for i, data in enumerate(trainloader, 0):\n",
        "          # get the inputs; data is a list of [inputs, labels]\n",
        "          inputs, labels = data\n",
        "\n",
        "          # zero the parameter gradients\n",
        "          optimizer.zero_grad()\n",
        "\n",
        "          # forward + backward + optimize\n",
        "          outputs = net(inputs)\n",
        "          loss = criterion(outputs, labels)\n",
        "          loss.backward()\n",
        "          optimizer.step()\n",
        "\n",
        "          # print statistics\n",
        "          running_loss += loss.item()\n",
        "          if i % 2000 == 1999:    # print every 2000 mini-batches\n",
        "              print(f'[{epoch + 1}, {i + 1:5d}] loss: {running_loss / 2000:.3f}')\n",
        "              running_loss = 0.0\n",
        "  end = time.time()\n",
        "\n",
        "  print('Finished Training for momentum in SGD ' + numStr)\n",
        "  print('Time taken: ', end-start)\n",
        "  PATH = './cifar_net'+numStr+'.pth'\n",
        "  torch.save(net.state_dict(), PATH)\n",
        "\n"
      ],
      "metadata": {
        "colab": {
          "base_uri": "https://localhost:8080/"
        },
        "id": "Qbay03w1CTe6",
        "outputId": "8d569076-d958-4263-8f9e-341a1d25189e"
      },
      "execution_count": null,
      "outputs": [
        {
          "output_type": "stream",
          "name": "stdout",
          "text": [
            "[1,  2000] loss: 2.301\n",
            "[1,  4000] loss: 2.296\n",
            "[1,  6000] loss: 2.281\n",
            "[1,  8000] loss: 2.238\n",
            "[1, 10000] loss: 2.188\n",
            "[1, 12000] loss: 2.127\n",
            "[2,  2000] loss: 2.041\n",
            "[2,  4000] loss: 1.977\n",
            "[2,  6000] loss: 1.950\n",
            "[2,  8000] loss: 1.887\n",
            "[2, 10000] loss: 1.840\n",
            "[2, 12000] loss: 1.772\n",
            "Finished Training for momentum in SGD 0\n",
            "Time taken:  131.85588932037354\n",
            "[1,  2000] loss: 2.303\n",
            "[1,  4000] loss: 2.302\n",
            "[1,  6000] loss: 2.301\n",
            "[1,  8000] loss: 2.298\n",
            "[1, 10000] loss: 2.291\n",
            "[1, 12000] loss: 2.265\n",
            "[2,  2000] loss: 2.135\n",
            "[2,  4000] loss: 2.035\n",
            "[2,  6000] loss: 1.964\n",
            "[2,  8000] loss: 1.924\n",
            "[2, 10000] loss: 1.857\n",
            "[2, 12000] loss: 1.818\n",
            "Finished Training for momentum in SGD 0.1\n",
            "Time taken:  135.7267723083496\n",
            "[1,  2000] loss: 2.302\n",
            "[1,  4000] loss: 2.294\n",
            "[1,  6000] loss: 2.206\n",
            "[1,  8000] loss: 2.024\n",
            "[1, 10000] loss: 1.932\n",
            "[1, 12000] loss: 1.856\n",
            "[2,  2000] loss: 1.726\n",
            "[2,  4000] loss: 1.654\n",
            "[2,  6000] loss: 1.610\n",
            "[2,  8000] loss: 1.568\n",
            "[2, 10000] loss: 1.545\n",
            "[2, 12000] loss: 1.525\n",
            "Finished Training for momentum in SGD 0.5\n",
            "Time taken:  137.58527994155884\n",
            "[1,  2000] loss: 2.301\n",
            "[1,  4000] loss: 2.247\n",
            "[1,  6000] loss: 2.059\n",
            "[1,  8000] loss: 1.941\n",
            "[1, 10000] loss: 1.776\n",
            "[1, 12000] loss: 1.674\n",
            "[2,  2000] loss: 1.606\n",
            "[2,  4000] loss: 1.575\n",
            "[2,  6000] loss: 1.539\n",
            "[2,  8000] loss: 1.490\n",
            "[2, 10000] loss: 1.475\n",
            "[2, 12000] loss: 1.446\n",
            "Finished Training for momentum in SGD 0.7\n",
            "Time taken:  137.74373960494995\n",
            "[1,  2000] loss: 2.211\n",
            "[1,  4000] loss: 1.873\n",
            "[1,  6000] loss: 1.654\n",
            "[1,  8000] loss: 1.568\n",
            "[1, 10000] loss: 1.491\n",
            "[1, 12000] loss: 1.451\n",
            "[2,  2000] loss: 1.371\n",
            "[2,  4000] loss: 1.333\n",
            "[2,  6000] loss: 1.330\n",
            "[2,  8000] loss: 1.301\n",
            "[2, 10000] loss: 1.282\n",
            "[2, 12000] loss: 1.271\n",
            "Finished Training for momentum in SGD 0.9\n",
            "Time taken:  133.77690529823303\n"
          ]
        }
      ]
    },
    {
      "cell_type": "code",
      "source": [
        "import torch.optim as optim\n",
        "import time\n",
        "\n",
        "criterion = nn.CrossEntropyLoss()\n",
        "\n",
        "# for i in [0,0.1,0.5,0.7,0.9]:\n",
        "net = CifarCNN()\n",
        "\n",
        "# print(PATH)\n",
        "# optimizer = optim.SGD(net.parameters(), lr=0.001, momentum=i)\n",
        "optimizer = optim.Adam(net.parameters(), lr=0.001)\n",
        "start = time.time()\n",
        "\n",
        "for epoch in range(2):  # loop over the dataset multiple times\n",
        "\n",
        "    running_loss = 0.0\n",
        "    for i, data in enumerate(trainloader, 0):\n",
        "        # get the inputs; data is a list of [inputs, labels]\n",
        "        inputs, labels = data\n",
        "\n",
        "        # zero the parameter gradients\n",
        "        optimizer.zero_grad()\n",
        "\n",
        "        # forward + backward + optimize\n",
        "        outputs = net(inputs)\n",
        "        loss = criterion(outputs, labels)\n",
        "        loss.backward()\n",
        "        optimizer.step()\n",
        "\n",
        "        # print statistics\n",
        "        running_loss += loss.item()\n",
        "        if i % 2000 == 1999:    # print every 2000 mini-batches\n",
        "            print(f'[{epoch + 1}, {i + 1:5d}] loss: {running_loss / 2000:.3f}')\n",
        "            running_loss = 0.0\n",
        "end = time.time()\n",
        "\n",
        "print('Finished Training for momentum in SGD ' + numStr)\n",
        "print('Time taken: ', end-start)\n",
        "PATH = './cifar_net_adam.pth'\n",
        "torch.save(net.state_dict(), PATH)"
      ],
      "metadata": {
        "id": "6I_GKmSMEA4y",
        "colab": {
          "base_uri": "https://localhost:8080/"
        },
        "outputId": "d80056a9-c635-47a6-cb6c-264e1fbf1c70"
      },
      "execution_count": null,
      "outputs": [
        {
          "output_type": "stream",
          "name": "stdout",
          "text": [
            "[1,  2000] loss: 1.855\n",
            "[1,  4000] loss: 1.607\n",
            "[1,  6000] loss: 1.528\n",
            "[1,  8000] loss: 1.465\n",
            "[1, 10000] loss: 1.449\n",
            "[1, 12000] loss: 1.407\n",
            "[2,  2000] loss: 1.343\n",
            "[2,  4000] loss: 1.292\n",
            "[2,  6000] loss: 1.310\n",
            "[2,  8000] loss: 1.279\n",
            "[2, 10000] loss: 1.288\n",
            "[2, 12000] loss: 1.287\n",
            "Finished Training for momentum in SGD 0.9\n",
            "Time taken:  182.84347891807556\n"
          ]
        }
      ]
    },
    {
      "cell_type": "code",
      "source": [
        "correct = 0\n",
        "total = 0\n",
        "net.load_state_dict(torch.load(\"/content/cifar_net\"+str(j)+\".pth\"))\n",
        "# since we're not training, we don't need to calculate the gradients for our outputs\n",
        "with torch.no_grad():\n",
        "    for data in testloader:\n",
        "        images, labels = data\n",
        "        # calculate outputs by running images through the network\n",
        "        outputs = net(images)\n",
        "        # the class with the highest energy is what we choose as prediction\n",
        "        _, predicted = torch.max(outputs.data, 1)\n",
        "        total += labels.size(0)\n",
        "        correct += (predicted == labels).sum().item()\n",
        "\n",
        "print(f'Accuracy of the network on the 10000 test images: {100 * correct // total} %')"
      ],
      "metadata": {
        "colab": {
          "base_uri": "https://localhost:8080/"
        },
        "id": "ZvrHv1K5pIhj",
        "outputId": "399450dd-9c4f-40b8-c51e-afe1cb71726b"
      },
      "execution_count": null,
      "outputs": [
        {
          "output_type": "stream",
          "name": "stdout",
          "text": [
            "Accuracy of the network on the 10000 test images: 54 %\n"
          ]
        }
      ]
    },
    {
      "cell_type": "code",
      "source": [
        "\n",
        "# since we're not training, we don't need to calculate the gradients for our outputs\n",
        "accuracies = []\n",
        "\n",
        "for j in [0,0.1,0.5,0.7,0.9]:\n",
        "  correct = 0\n",
        "  total = 0\n",
        "  net = CifarCNN()\n",
        "  net.load_state_dict(torch.load(\"/content/cifar_net\"+str(j)+\".pth\"))\n",
        "  with torch.no_grad():\n",
        "\n",
        "      for data in testloader:\n",
        "          images, labels = data\n",
        "          # calculate outputs by running images through the network\n",
        "          outputs = net(images)\n",
        "          # the class with the highest energy is what we choose as prediction\n",
        "          _, predicted = torch.max(outputs.data, 1)\n",
        "          total += labels.size(0)\n",
        "          correct += (predicted == labels).sum().item()\n",
        "\n",
        "  print(\"Momentum = \" + str(j))\n",
        "  print(f'Accuracy of the network on the 10000 test images: {100 * correct // total} %')\n",
        "  accuracies.append(100 * correct // total)\n",
        "\n",
        "\n",
        "\n",
        "# for i in :\n",
        "#   print(i,\"% training data\")\n",
        "#   mse, r2 = testing(1 - i/100)\n",
        "#   print(\"MSE: \", mse)\n",
        "#   print('\\n')\n",
        "\n",
        "#   Percentages.append(i)\n",
        "#   MSEBoston.append(mse)\n",
        "#   r2s.append(r2)\n",
        "\n",
        "#   i *= 8\n",
        "\n",
        "# print(MSEBoston)\n",
        "plt.plot([0,0.1,0.5,0.7,0.9], accuracies)\n",
        "plt.title('Accuracy change with momentum change in SGD')\n",
        "plt.xlabel('Momentum')\n",
        "plt.ylabel('%Accuracy')\n",
        "plt.show()\n",
        "# plt.savefig('growing_subsets_boston.png')"
      ],
      "metadata": {
        "colab": {
          "base_uri": "https://localhost:8080/",
          "height": 651
        },
        "id": "g10_J8cuSwQR",
        "outputId": "11cb973f-0c5d-4531-e743-b2f1e6f2e898"
      },
      "execution_count": null,
      "outputs": [
        {
          "output_type": "stream",
          "name": "stdout",
          "text": [
            "Momentum = 0\n",
            "Accuracy of the network on the 10000 test images: 38 %\n",
            "Momentum = 0.1\n",
            "Accuracy of the network on the 10000 test images: 35 %\n",
            "Momentum = 0.5\n",
            "Accuracy of the network on the 10000 test images: 47 %\n",
            "Momentum = 0.7\n",
            "Accuracy of the network on the 10000 test images: 48 %\n",
            "Momentum = 0.9\n",
            "Accuracy of the network on the 10000 test images: 54 %\n"
          ]
        },
        {
          "output_type": "display_data",
          "data": {
            "text/plain": [
              "<Figure size 640x480 with 1 Axes>"
            ],
            "image/png": "[encoded data removed]"
          },
          "metadata": {}
        }
      ]
    },
    {
      "cell_type": "code",
      "source": [
        "time_taken = [131.9,135.7,137.6,137.7,133.8]\n",
        "plt.plot([0,0.1,0.5,0.7,0.9], time_taken)\n",
        "plt.title('Time taken to converge with momentum change in SGD')\n",
        "plt.xlabel('Momentum')\n",
        "plt.ylabel('Time Taken')\n",
        "plt.show()"
      ],
      "metadata": {
        "colab": {
          "base_uri": "https://localhost:8080/",
          "height": 472
        },
        "id": "soply-REpQQZ",
        "outputId": "6fa9ea44-be28-4615-d9a9-e3cd6d7c3148"
      },
      "execution_count": null,
      "outputs": [
        {
          "output_type": "display_data",
          "data": {
            "text/plain": [
              "<Figure size 640x480 with 1 Axes>"
            ],
            "image/png": "[encoded data removed]"
          },
          "metadata": {}
        }
      ]
    },
    {
      "cell_type": "code",
      "source": [],
      "metadata": {
        "id": "gpK-EB-QscbJ"
      },
      "execution_count": null,
      "outputs": []
    }
  ]
}